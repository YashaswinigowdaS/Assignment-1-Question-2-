{
 "cells": [
  {
   "cell_type": "markdown",
   "id": "3362e922",
   "metadata": {},
   "source": [
    "# write a python program that accepts a word from the user and reverse it. "
   ]
  },
  {
   "cell_type": "code",
   "execution_count": 3,
   "id": "9fe5d75c",
   "metadata": {},
   "outputs": [
    {
     "name": "stdout",
     "output_type": "stream",
     "text": [
      "Input a word to reverse=EDYODA\n",
      "ADOYDE\n"
     ]
    }
   ],
   "source": [
    "word=input(\"Input a word to reverse=\")\n",
    "for i in range(len(word)-1,-1,-1):\n",
    "    print(word[i],end=\"\")\n",
    "print()"
   ]
  },
  {
   "cell_type": "code",
   "execution_count": null,
   "id": "afccb8e2",
   "metadata": {},
   "outputs": [],
   "source": []
  }
 ],
 "metadata": {
  "kernelspec": {
   "display_name": "Python 3 (ipykernel)",
   "language": "python",
   "name": "python3"
  },
  "language_info": {
   "codemirror_mode": {
    "name": "ipython",
    "version": 3
   },
   "file_extension": ".py",
   "mimetype": "text/x-python",
   "name": "python",
   "nbconvert_exporter": "python",
   "pygments_lexer": "ipython3",
   "version": "3.11.0"
  }
 },
 "nbformat": 4,
 "nbformat_minor": 5
}
